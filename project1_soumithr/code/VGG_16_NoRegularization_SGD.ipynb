{
 "cells": [
  {
   "cell_type": "code",
   "execution_count": 1,
   "metadata": {
    "colab": {
     "base_uri": "https://localhost:8080/",
     "height": 52
    },
    "executionInfo": {
     "elapsed": 8810,
     "status": "ok",
     "timestamp": 1602393014020,
     "user": {
      "displayName": "soumith reddy",
      "photoUrl": "https://lh3.googleusercontent.com/a-/AOh14GiKcv01CRF4D2w-jIiM1mLm_YxQw4dJgKumUlYqccc=s64",
      "userId": "02054243412335471115"
     },
     "user_tz": 240
    },
    "id": "nM8PZ1p8b52M",
    "outputId": "752005c2-7573-47e3-d850-73e7a9099c8d"
   },
   "outputs": [
    {
     "name": "stdout",
     "output_type": "stream",
     "text": [
      "Downloading data from https://www.cs.toronto.edu/~kriz/cifar-100-python.tar.gz\n",
      "169009152/169001437 [==============================] - 4s 0us/step\n"
     ]
    }
   ],
   "source": [
    "from keras.datasets import cifar100\n",
    "(x_train, Y_train), (x_test, Y_test) = cifar100.load_data()\n",
    "#x_train = x_train.astype('float32') / 255\n",
    "#x_test = x_test.astype('float32') / 255\n",
    "from keras.utils import to_categorical\n",
    "y_train = to_categorical(Y_train)\n",
    "y_test = to_categorical(Y_test)"
   ]
  },
  {
   "cell_type": "code",
   "execution_count": 2,
   "metadata": {
    "executionInfo": {
     "elapsed": 6190,
     "status": "ok",
     "timestamp": 1602393032770,
     "user": {
      "displayName": "soumith reddy",
      "photoUrl": "https://lh3.googleusercontent.com/a-/AOh14GiKcv01CRF4D2w-jIiM1mLm_YxQw4dJgKumUlYqccc=s64",
      "userId": "02054243412335471115"
     },
     "user_tz": 240
    },
    "id": "F4cBJ8_acF2K"
   },
   "outputs": [],
   "source": [
    "from keras.models import Sequential\n",
    "from keras.layers import Conv2D, MaxPool2D, Flatten, Dense,BatchNormalization,Activation,Dropout,LeakyReLU\n",
    "from tensorflow.keras.optimizers import SGD#\n",
    "#import tensorflow as \n",
    "model = Sequential()\n",
    "\n",
    "# Creating first block- (2 Convolution + 1 Max pool)\n",
    "model.add(Conv2D(filters= 64, kernel_size= (3,3), strides= (1,1), padding='same', input_shape= (32, 32, 3)))\n",
    "model.add(LeakyReLU(alpha=0.1))\n",
    "model.add(Conv2D(filters= 64, kernel_size= (3,3), strides= (1,1), padding='same'))\n",
    "model.add(LeakyReLU(alpha=0.1))\n",
    "#model.add(BatchNormalization())\n",
    "model.add(MaxPool2D(pool_size= (2,2), strides=(1,1)))\n",
    "\n",
    "# Creating second block- (2 Convolution + 1 Max pool)\n",
    "model.add(Conv2D(filters= 128, kernel_size= (3,3), strides= (1,1), padding='same'))\n",
    "model.add(LeakyReLU(alpha=0.1))\n",
    "model.add(Conv2D(filters= 128, kernel_size= (3,3), strides= (1,1), padding='same'))\n",
    "model.add(LeakyReLU(alpha=0.1))\n",
    "#model.add(BatchNormalization())\n",
    "model.add(MaxPool2D(pool_size= (2,2), strides=(1,1)))\n",
    "\n",
    "\n",
    "# Creating third block- (3 Convolution + 1 Max pool)\n",
    "model.add(Conv2D(filters= 256, kernel_size= (3,3), strides= (1,1), padding='same'))\n",
    "model.add(LeakyReLU(alpha=0.1))\n",
    "model.add(Conv2D(filters= 256, kernel_size= (3,3), strides= (1,1), padding='same'))\n",
    "model.add(LeakyReLU(alpha=0.1))\n",
    "model.add(Conv2D(filters= 256, kernel_size= (3,3), strides= (1,1), padding='same'))\n",
    "model.add(LeakyReLU(alpha=0.1))\n",
    "#model.add(BatchNormalization())\n",
    "model.add(MaxPool2D(pool_size= (2,2), strides=(2,2)))\n",
    "\n",
    "# Creating fourth block- (3 Convolution + 1 Max pool)\n",
    "model.add(Conv2D(filters= 512, kernel_size= (3,3), strides= (1,1), padding='same'))\n",
    "model.add(LeakyReLU(alpha=0.1))\n",
    "model.add(Conv2D(filters= 512, kernel_size= (3,3), strides= (1,1), padding='same'))\n",
    "model.add(LeakyReLU(alpha=0.1))\n",
    "model.add(Conv2D(filters= 512, kernel_size= (3,3), strides= (1,1), padding='same'))\n",
    "model.add(LeakyReLU(alpha=0.1))\n",
    "#model.add(Dropout(0.3))\n",
    "model.add(MaxPool2D(pool_size= (2,2), strides=(1,1)))\n",
    "\n",
    "# Creating fifth block- (3 Convolution + 1 Max pool)\n",
    "model.add(Conv2D(filters= 512, kernel_size= (3,3), strides= (1,1), padding='same'))\n",
    "model.add(LeakyReLU(alpha=0.1))\n",
    "model.add(Conv2D(filters= 512, kernel_size= (3,3), strides= (1,1), padding='same'))\n",
    "model.add(LeakyReLU(alpha=0.1))\n",
    "model.add(Conv2D(filters= 512, kernel_size= (3,3), strides= (1,1), padding='same'))\n",
    "model.add(LeakyReLU(alpha=0.1))\n",
    "#model.add(Dropout(0.3))\n",
    "model.add(MaxPool2D(pool_size= (2,2), strides=(1,1)))\n",
    "\n",
    "# Flattening the pooled image pixels\n",
    "model.add(Flatten())\n",
    "\n",
    "# Creating 2 Dense Layers\n",
    "model.add(Dense(units= 512))\n",
    "model.add(LeakyReLU(alpha=0.1))\n",
    "\n",
    "model.add(Dense(units= 512))\n",
    "model.add(LeakyReLU(alpha=0.1))\n",
    "#model.add(Dropout(0.3))\n",
    "# Creating an output layer\n",
    "model.add(Dense(units= 100, activation='softmax'))\n",
    "\n",
    "sgd=SGD(learning_rate=0.01,momentum=0.9,clipnorm=1)\n",
    "model.compile(optimizer=sgd,loss='categorical_crossentropy',metrics=['accuracy'])\n",
    "#print(model.summary())"
   ]
  },
  {
   "cell_type": "markdown",
   "metadata": {},
   "source": [
    "Code snippet taken and modified from https://towardsdatascience.com/step-by-step-vgg16-implementation-in-keras-for-beginners-a833c686ae6c"
   ]
  },
  {
   "cell_type": "code",
   "execution_count": 3,
   "metadata": {
    "colab": {
     "base_uri": "https://localhost:8080/",
     "height": 961
    },
    "collapsed": true,
    "executionInfo": {
     "elapsed": 1071621,
     "status": "ok",
     "timestamp": 1602394127223,
     "user": {
      "displayName": "soumith reddy",
      "photoUrl": "https://lh3.googleusercontent.com/a-/AOh14GiKcv01CRF4D2w-jIiM1mLm_YxQw4dJgKumUlYqccc=s64",
      "userId": "02054243412335471115"
     },
     "user_tz": 240
    },
    "id": "5-qgftkdcpNO",
    "outputId": "335d66f4-94d9-4550-bee3-97e95d1021d2"
   },
   "outputs": [
    {
     "name": "stdout",
     "output_type": "stream",
     "text": [
      "WARNING:tensorflow:`period` argument is deprecated. Please use `save_freq` to specify the frequency in number of batches seen.\n",
      "Epoch 1/50\n",
      "  2/391 [..............................] - ETA: 41s - loss: 4.6412 - accuracy: 0.0156WARNING:tensorflow:Callbacks method `on_train_batch_end` is slow compared to the batch time (batch time: 0.0821s vs `on_train_batch_end` time: 0.1292s). Check your callbacks.\n",
      "391/391 [==============================] - ETA: 0s - loss: 4.1911 - accuracy: 0.0641\n",
      "Epoch 00001: val_accuracy improved from -inf to 0.13010, saving model to VGG_NoReg_SGD.hdf5\n",
      "391/391 [==============================] - 90s 230ms/step - loss: 4.1911 - accuracy: 0.0641 - val_loss: 3.7856 - val_accuracy: 0.1301\n",
      "Epoch 2/50\n",
      "391/391 [==============================] - ETA: 0s - loss: 3.4396 - accuracy: 0.1855\n",
      "Epoch 00002: val_accuracy improved from 0.13010 to 0.24520, saving model to VGG_NoReg_SGD.hdf5\n",
      "391/391 [==============================] - 89s 226ms/step - loss: 3.4396 - accuracy: 0.1855 - val_loss: 3.1270 - val_accuracy: 0.2452\n",
      "Epoch 3/50\n",
      "391/391 [==============================] - ETA: 0s - loss: 2.8507 - accuracy: 0.2988\n",
      "Epoch 00003: val_accuracy improved from 0.24520 to 0.32070, saving model to VGG_NoReg_SGD.hdf5\n",
      "391/391 [==============================] - 88s 226ms/step - loss: 2.8507 - accuracy: 0.2988 - val_loss: 2.8009 - val_accuracy: 0.3207\n",
      "Epoch 4/50\n",
      "391/391 [==============================] - ETA: 0s - loss: 2.3624 - accuracy: 0.3971\n",
      "Epoch 00004: val_accuracy improved from 0.32070 to 0.38270, saving model to VGG_NoReg_SGD.hdf5\n",
      "391/391 [==============================] - 88s 226ms/step - loss: 2.3624 - accuracy: 0.3971 - val_loss: 2.5074 - val_accuracy: 0.3827\n",
      "Epoch 5/50\n",
      "391/391 [==============================] - ETA: 0s - loss: 1.8851 - accuracy: 0.5026\n",
      "Epoch 00005: val_accuracy improved from 0.38270 to 0.39860, saving model to VGG_NoReg_SGD.hdf5\n",
      "391/391 [==============================] - 88s 226ms/step - loss: 1.8851 - accuracy: 0.5026 - val_loss: 2.4277 - val_accuracy: 0.3986\n",
      "Epoch 6/50\n",
      "391/391 [==============================] - ETA: 0s - loss: 1.4188 - accuracy: 0.6094\n",
      "Epoch 00006: val_accuracy improved from 0.39860 to 0.40980, saving model to VGG_NoReg_SGD.hdf5\n",
      "391/391 [==============================] - 88s 226ms/step - loss: 1.4188 - accuracy: 0.6094 - val_loss: 2.4528 - val_accuracy: 0.4098\n",
      "Epoch 7/50\n",
      "391/391 [==============================] - ETA: 0s - loss: 0.9556 - accuracy: 0.7254\n",
      "Epoch 00007: val_accuracy improved from 0.40980 to 0.42730, saving model to VGG_NoReg_SGD.hdf5\n",
      "391/391 [==============================] - 88s 226ms/step - loss: 0.9556 - accuracy: 0.7254 - val_loss: 2.6735 - val_accuracy: 0.4273\n",
      "Epoch 8/50\n",
      "391/391 [==============================] - ETA: 0s - loss: 0.6347 - accuracy: 0.8084\n",
      "Epoch 00008: val_accuracy did not improve from 0.42730\n",
      "391/391 [==============================] - 88s 224ms/step - loss: 0.6347 - accuracy: 0.8084 - val_loss: 3.1642 - val_accuracy: 0.4107\n",
      "Epoch 9/50\n",
      "391/391 [==============================] - ETA: 0s - loss: 0.4689 - accuracy: 0.8545\n",
      "Epoch 00009: val_accuracy did not improve from 0.42730\n",
      "391/391 [==============================] - 88s 224ms/step - loss: 0.4689 - accuracy: 0.8545 - val_loss: 3.6795 - val_accuracy: 0.4117\n",
      "Epoch 10/50\n",
      "391/391 [==============================] - ETA: 0s - loss: 0.3744 - accuracy: 0.8831\n",
      "Epoch 00010: val_accuracy did not improve from 0.42730\n",
      "391/391 [==============================] - 88s 224ms/step - loss: 0.3744 - accuracy: 0.8831 - val_loss: 3.9346 - val_accuracy: 0.4027\n",
      "Epoch 11/50\n",
      "391/391 [==============================] - ETA: 0s - loss: 0.3144 - accuracy: 0.9030\n",
      "Epoch 00011: val_accuracy did not improve from 0.42730\n",
      "391/391 [==============================] - 88s 224ms/step - loss: 0.3144 - accuracy: 0.9030 - val_loss: 4.0048 - val_accuracy: 0.4100\n",
      "Epoch 12/50\n",
      "391/391 [==============================] - ETA: 0s - loss: 0.2697 - accuracy: 0.9162\n",
      "Epoch 00012: val_accuracy did not improve from 0.42730\n",
      "Restoring model weights from the end of the best epoch.\n",
      "391/391 [==============================] - 88s 224ms/step - loss: 0.2697 - accuracy: 0.9162 - val_loss: 4.1913 - val_accuracy: 0.4014\n",
      "Epoch 00012: early stopping\n"
     ]
    }
   ],
   "source": [
    "from keras.callbacks import ModelCheckpoint, EarlyStopping\n",
    "checkpoint = ModelCheckpoint(\"VGG_NoReg_SGD.hdf5\", monitor='val_accuracy', verbose=1, save_best_only=True, save_weights_only=True, mode='auto', period=1)\n",
    "early = EarlyStopping(monitor='val_accuracy', min_delta=0, patience=10, verbose=1, mode='auto',restore_best_weights=True)\n",
    "hist=model.fit(x_train, y_train, batch_size=128, epochs=100, verbose=1, validation_data=(x_test, y_test),callbacks=[checkpoint,early])\n"
   ]
  },
  {
   "cell_type": "code",
   "execution_count": 4,
   "metadata": {
    "colab": {
     "base_uri": "https://localhost:8080/",
     "height": 70
    },
    "executionInfo": {
     "elapsed": 7712,
     "status": "ok",
     "timestamp": 1602394380752,
     "user": {
      "displayName": "soumith reddy",
      "photoUrl": "https://lh3.googleusercontent.com/a-/AOh14GiKcv01CRF4D2w-jIiM1mLm_YxQw4dJgKumUlYqccc=s64",
      "userId": "02054243412335471115"
     },
     "user_tz": 240
    },
    "id": "6QuweFbCk9CF",
    "outputId": "fa2daba0-555a-4d3a-b449-4ee1e882a784"
   },
   "outputs": [
    {
     "name": "stdout",
     "output_type": "stream",
     "text": [
      "Prec: 0.4392599117198059\n",
      "Recall: 0.4273\n",
      "Accuracy: 0.4273\n"
     ]
    }
   ],
   "source": [
    "\n",
    "# Test the model\n",
    "y_true = y_test.argmax(-1)\n",
    "y_pred = model.predict(x_test).argmax(-1)\n",
    "# generate confusion matrix\n",
    "from sklearn.metrics import confusion_matrix, precision_score, recall_score, accuracy_score\n",
    "confusion_matrix(y_true, y_pred)\n",
    "# calculate prec, recall, accuracy\n",
    "print(\"Prec: \"+ str(precision_score(y_true, y_pred, average='weighted')))\n",
    "print(\"Recall: \"+ str(recall_score(y_true, y_pred, average='weighted')))\n",
    "print(\"Accuracy: \" + str(accuracy_score(y_true, y_pred)))"
   ]
  },
  {
   "cell_type": "code",
   "execution_count": 5,
   "metadata": {
    "colab": {
     "base_uri": "https://localhost:8080/",
     "height": 295
    },
    "executionInfo": {
     "elapsed": 6904,
     "status": "ok",
     "timestamp": 1602394381069,
     "user": {
      "displayName": "soumith reddy",
      "photoUrl": "https://lh3.googleusercontent.com/a-/AOh14GiKcv01CRF4D2w-jIiM1mLm_YxQw4dJgKumUlYqccc=s64",
      "userId": "02054243412335471115"
     },
     "user_tz": 240
    },
    "id": "yrLHXnhFZFB9",
    "outputId": "296ae3f8-a7a7-411a-d56d-4c60f6b70eba"
   },
   "outputs": [
    {
     "data": {
      "image/png": "[encoded data removed]",
      "text/plain": [
       "<Figure size 432x288 with 1 Axes>"
      ]
     },
     "metadata": {
      "needs_background": "light",
      "tags": []
     },
     "output_type": "display_data"
    }
   ],
   "source": [
    "import matplotlib.pyplot as plt\n",
    "plt.plot(hist.history[\"accuracy\"])\n",
    "plt.plot(hist.history['val_accuracy'])\n",
    "plt.plot(hist.history['loss'])\n",
    "plt.plot(hist.history['val_loss'])\n",
    "plt.title(\"model accuracy\")\n",
    "plt.ylabel(\"Accuracy\")\n",
    "plt.xlabel(\"Epoch\")\n",
    "plt.legend([\"Accuracy\",\"Validation Accuracy\",\"loss\",\"Validation Loss\"])\n",
    "plt.show()"
   ]
  },
  {
   "cell_type": "markdown",
   "metadata": {},
   "source": [
    "## Cell to Load Weights and Print Results"
   ]
  },
  {
   "cell_type": "code",
   "execution_count": null,
   "metadata": {
    "executionInfo": {
     "elapsed": 2238080,
     "status": "ok",
     "timestamp": 1602377886287,
     "user": {
      "displayName": "soumith reddy",
      "photoUrl": "https://lh3.googleusercontent.com/a-/AOh14GiKcv01CRF4D2w-jIiM1mLm_YxQw4dJgKumUlYqccc=s64",
      "userId": "02054243412335471115"
     },
     "user_tz": 240
    },
    "id": "OTQRUlGxZHy1"
   },
   "outputs": [],
   "source": [
    "from keras.models import Sequential\n",
    "from keras.layers import Conv2D, MaxPool2D, Flatten, Dense,BatchNormalization,Activation,Dropout,LeakyReLU\n",
    "from tensorflow.keras.optimizers import SGD#\n",
    "#import tensorflow as \n",
    "model = Sequential()\n",
    "\n",
    "# Creating first block- (2 Convolution + 1 Max pool)\n",
    "model.add(Conv2D(filters= 64, kernel_size= (3,3), strides= (1,1), padding='same', input_shape= (32, 32, 3)))\n",
    "model.add(LeakyReLU(alpha=0.1))\n",
    "model.add(Conv2D(filters= 64, kernel_size= (3,3), strides= (1,1), padding='same'))\n",
    "model.add(LeakyReLU(alpha=0.1))\n",
    "#model.add(BatchNormalization())\n",
    "model.add(MaxPool2D(pool_size= (2,2), strides=(1,1)))\n",
    "\n",
    "# Creating second block- (2 Convolution + 1 Max pool)\n",
    "model.add(Conv2D(filters= 128, kernel_size= (3,3), strides= (1,1), padding='same'))\n",
    "model.add(LeakyReLU(alpha=0.1))\n",
    "model.add(Conv2D(filters= 128, kernel_size= (3,3), strides= (1,1), padding='same'))\n",
    "model.add(LeakyReLU(alpha=0.1))\n",
    "#model.add(BatchNormalization())\n",
    "model.add(MaxPool2D(pool_size= (2,2), strides=(1,1)))\n",
    "\n",
    "\n",
    "# Creating third block- (3 Convolution + 1 Max pool)\n",
    "model.add(Conv2D(filters= 256, kernel_size= (3,3), strides= (1,1), padding='same'))\n",
    "model.add(LeakyReLU(alpha=0.1))\n",
    "model.add(Conv2D(filters= 256, kernel_size= (3,3), strides= (1,1), padding='same'))\n",
    "model.add(LeakyReLU(alpha=0.1))\n",
    "model.add(Conv2D(filters= 256, kernel_size= (3,3), strides= (1,1), padding='same'))\n",
    "model.add(LeakyReLU(alpha=0.1))\n",
    "#model.add(BatchNormalization())\n",
    "model.add(MaxPool2D(pool_size= (2,2), strides=(2,2)))\n",
    "\n",
    "# Creating fourth block- (3 Convolution + 1 Max pool)\n",
    "model.add(Conv2D(filters= 512, kernel_size= (3,3), strides= (1,1), padding='same'))\n",
    "model.add(LeakyReLU(alpha=0.1))\n",
    "model.add(Conv2D(filters= 512, kernel_size= (3,3), strides= (1,1), padding='same'))\n",
    "model.add(LeakyReLU(alpha=0.1))\n",
    "model.add(Conv2D(filters= 512, kernel_size= (3,3), strides= (1,1), padding='same'))\n",
    "model.add(LeakyReLU(alpha=0.1))\n",
    "#model.add(Dropout(0.3))\n",
    "model.add(MaxPool2D(pool_size= (2,2), strides=(1,1)))\n",
    "\n",
    "# Creating fifth block- (3 Convolution + 1 Max pool)\n",
    "model.add(Conv2D(filters= 512, kernel_size= (3,3), strides= (1,1), padding='same'))\n",
    "model.add(LeakyReLU(alpha=0.1))\n",
    "model.add(Conv2D(filters= 512, kernel_size= (3,3), strides= (1,1), padding='same'))\n",
    "model.add(LeakyReLU(alpha=0.1))\n",
    "model.add(Conv2D(filters= 512, kernel_size= (3,3), strides= (1,1), padding='same'))\n",
    "model.add(LeakyReLU(alpha=0.1))\n",
    "#model.add(Dropout(0.3))\n",
    "model.add(MaxPool2D(pool_size= (2,2), strides=(1,1)))\n",
    "\n",
    "# Flattening the pooled image pixels\n",
    "model.add(Flatten())\n",
    "\n",
    "# Creating 2 Dense Layers\n",
    "model.add(Dense(units= 512))\n",
    "model.add(LeakyReLU(alpha=0.1))\n",
    "\n",
    "model.add(Dense(units= 512))\n",
    "model.add(LeakyReLU(alpha=0.1))\n",
    "#model.add(Dropout(0.3))\n",
    "# Creating an output layer\n",
    "model.add(Dense(units= 100, activation='softmax'))\n",
    "\n",
    "sgd=SGD(learning_rate=0.01,momentum=0.9,clipnorm=1)\n",
    "model.compile(optimizer=sgd,loss='categorical_crossentropy',metrics=['accuracy'])\n",
    "#print(model.summary())\n",
    "\n",
    "model.load_weights('../weights/VGG_NoReg_SGD.hdf5')\n",
    "\n",
    "\n",
    "from keras.datasets import cifar100\n",
    "(x_train, Y_train), (x_test, Y_test) = cifar100.load_data()\n",
    "#x_train = x_train.astype('float32') / 255\n",
    "#x_test = x_test.astype('float32') / 255\n",
    "from keras.utils import to_categorical\n",
    "y_train = to_categorical(Y_train)\n",
    "y_test = to_categorical(Y_test)\n",
    "\n",
    "\n",
    "# Test the model\n",
    "y_true = y_test.argmax(-1)\n",
    "y_pred = model.predict(x_test).argmax(-1)\n",
    "# generate confusion matrix\n",
    "from sklearn.metrics import confusion_matrix, precision_score, recall_score, accuracy_score\n",
    "confusion_matrix(y_true, y_pred)\n",
    "# calculate prec, recall, accuracy\n",
    "print(\"Prec: \"+ str(precision_score(y_true, y_pred, average='weighted')))\n",
    "print(\"Recall: \"+ str(recall_score(y_true, y_pred, average='weighted')))\n",
    "print(\"Accuracy: \" + str(accuracy_score(y_true, y_pred)))"
   ]
  }
 ],
 "metadata": {
  "accelerator": "GPU",
  "colab": {
   "authorship_tag": "ABX9TyPW+E7u6kWlsDR+AKvy1pJu",
   "collapsed_sections": [],
   "name": "VGG_No_Reg_SGD.ipynb",
   "provenance": []
  },
  "kernelspec": {
   "display_name": "Python 3",
   "language": "python",
   "name": "python3"
  },
  "language_info": {
   "codemirror_mode": {
    "name": "ipython",
    "version": 3
   },
   "file_extension": ".py",
   "mimetype": "text/x-python",
   "name": "python",
   "nbconvert_exporter": "python",
   "pygments_lexer": "ipython3",
   "version": "3.7.4"
  }
 },
 "nbformat": 4,
 "nbformat_minor": 1
}
